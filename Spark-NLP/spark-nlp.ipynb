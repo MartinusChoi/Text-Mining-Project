{
 "cells": [
  {
   "cell_type": "code",
   "execution_count": 1,
   "metadata": {},
   "outputs": [
    {
     "data": {
      "text/plain": [
       "'C:\\\\Spark\\\\spark-3.1.2-bin-hadoop3.2'"
      ]
     },
     "execution_count": 1,
     "metadata": {},
     "output_type": "execute_result"
    }
   ],
   "source": [
    "import findspark\n",
    "\n",
    "findspark.init()\n",
    "findspark.find()"
   ]
  },
  {
   "cell_type": "code",
   "execution_count": 2,
   "metadata": {},
   "outputs": [],
   "source": [
    "import sparknlp\n",
    "\n",
    "import pyspark\n",
    "from pyspark import SparkConf\n",
    "from pyspark.sql import SparkSession\n",
    "from pyspark.sql import functions as fun\n",
    "from pyspark.sql.types import *\n",
    "\n",
    "spark_conf = SparkConf()\n",
    "spark_conf = spark_conf.setAppName('spark nlp test')\\\n",
    "    .setAppName('master[*]')\\\n",
    "    .set(\"spark.jars.packages\", \"com.johnsnowlabs.nlp:spark-nlp_2.12:3.3.2\")\n",
    "spark = SparkSession.builder.config(conf=spark_conf).getOrCreate()"
   ]
  },
  {
   "cell_type": "code",
   "execution_count": 3,
   "metadata": {},
   "outputs": [],
   "source": [
    "import os\n",
    "\n",
    "path = os.path.join('../Data', '3구간', '1시기', '1시기_ST')\n",
    "\n",
    "texts = spark.sparkContext.wholeTextFiles(path)\n",
    "\n",
    "schema = StructType([\n",
    "    StructField('filename', StringType()),\n",
    "    StructField('text', StringType()),\n",
    "])\n",
    "\n",
    "texts_df = spark.createDataFrame(texts, schema)"
   ]
  },
  {
   "cell_type": "code",
   "execution_count": 4,
   "metadata": {},
   "outputs": [
    {
     "data": {
      "text/html": [
       "<div>\n",
       "<style scoped>\n",
       "    .dataframe tbody tr th:only-of-type {\n",
       "        vertical-align: middle;\n",
       "    }\n",
       "\n",
       "    .dataframe tbody tr th {\n",
       "        vertical-align: top;\n",
       "    }\n",
       "\n",
       "    .dataframe thead th {\n",
       "        text-align: right;\n",
       "    }\n",
       "</style>\n",
       "<table border=\"1\" class=\"dataframe\">\n",
       "  <thead>\n",
       "    <tr style=\"text-align: right;\">\n",
       "      <th></th>\n",
       "      <th>filename</th>\n",
       "      <th>text</th>\n",
       "      <th>article_name</th>\n",
       "    </tr>\n",
       "  </thead>\n",
       "  <tbody>\n",
       "    <tr>\n",
       "      <th>0</th>\n",
       "      <td>file:/c:/Text-Mining-Project/Data/3구간/1시기/1시기_...</td>\n",
       "      <td>America's Germany\\r\\n\\r\\nAmid ruins the occupa...</td>\n",
       "      <td>America_s Germany completed.txt</td>\n",
       "    </tr>\n",
       "    <tr>\n",
       "      <th>1</th>\n",
       "      <td>file:/c:/Text-Mining-Project/Data/3구간/1시기/1시기_...</td>\n",
       "      <td>ILYA EHRENBURG'S AMERICA\\r\\n\\r\\nTranslations o...</td>\n",
       "      <td>Ilyas America completed.txt</td>\n",
       "    </tr>\n",
       "    <tr>\n",
       "      <th>2</th>\n",
       "      <td>file:/c:/Text-Mining-Project/Data/3구간/1시기/1시기_...</td>\n",
       "      <td>NO REST FOR THE\\r\\nWEARY RUSSIANS\\r\\n\\r\\nJOHN ...</td>\n",
       "      <td>No Rest for Weary Russians completed.txt</td>\n",
       "    </tr>\n",
       "    <tr>\n",
       "      <th>3</th>\n",
       "      <td>file:/c:/Text-Mining-Project/Data/3구간/1시기/1시기_...</td>\n",
       "      <td>Our Ally, Russia\\r\\n\\r\\nON THURSDAY, September...</td>\n",
       "      <td>Our ally_1946_5_6_7.txt</td>\n",
       "    </tr>\n",
       "    <tr>\n",
       "      <th>4</th>\n",
       "      <td>file:/c:/Text-Mining-Project/Data/3구간/1시기/1시기_...</td>\n",
       "      <td>Our record in Japan \\r\\n\\r\\nMaxwell Stewart \\r...</td>\n",
       "      <td>Our record in Japan completed.txt</td>\n",
       "    </tr>\n",
       "  </tbody>\n",
       "</table>\n",
       "</div>"
      ],
      "text/plain": [
       "                                            filename  \\\n",
       "0  file:/c:/Text-Mining-Project/Data/3구간/1시기/1시기_...   \n",
       "1  file:/c:/Text-Mining-Project/Data/3구간/1시기/1시기_...   \n",
       "2  file:/c:/Text-Mining-Project/Data/3구간/1시기/1시기_...   \n",
       "3  file:/c:/Text-Mining-Project/Data/3구간/1시기/1시기_...   \n",
       "4  file:/c:/Text-Mining-Project/Data/3구간/1시기/1시기_...   \n",
       "\n",
       "                                                text  \\\n",
       "0  America's Germany\\r\\n\\r\\nAmid ruins the occupa...   \n",
       "1  ILYA EHRENBURG'S AMERICA\\r\\n\\r\\nTranslations o...   \n",
       "2  NO REST FOR THE\\r\\nWEARY RUSSIANS\\r\\n\\r\\nJOHN ...   \n",
       "3  Our Ally, Russia\\r\\n\\r\\nON THURSDAY, September...   \n",
       "4  Our record in Japan \\r\\n\\r\\nMaxwell Stewart \\r...   \n",
       "\n",
       "                               article_name  \n",
       "0           America_s Germany completed.txt  \n",
       "1               Ilyas America completed.txt  \n",
       "2  No Rest for Weary Russians completed.txt  \n",
       "3                   Our ally_1946_5_6_7.txt  \n",
       "4         Our record in Japan completed.txt  "
      ]
     },
     "execution_count": 4,
     "metadata": {},
     "output_type": "execute_result"
    }
   ],
   "source": [
    "texts_df = texts_df.withColumn(\n",
    "    'article_name',\n",
    "    fun.split('filename', '/').getItem(7)\n",
    ")\n",
    "\n",
    "texts_df.limit(5).toPandas()"
   ]
  },
  {
   "cell_type": "markdown",
   "metadata": {},
   "source": [
    "### expalin_document_ml\n",
    "\n",
    "-> transformer(변환자) 1개, annotator(애너테이터) 6개가 존재\n",
    "-> annotator : 특정 nlp 기술을 표형하는 단어\n",
    "\n",
    "1. Document Assembler : 문서를 포함하는 열을 생성하는 변환자\n",
    "2. Sentense Segmenter : 문서의 문장을 생성하는 애너테이터\n",
    "3. Tokenizer : 문장의 토큰을 생성하는 애터테이터\n",
    "4. SpellChecker : 맞춤법이 교정된 토큰을 생성하는 애너테이터\n",
    "5. Stemmer : 토큰의 어간을 생성\n",
    "6. Lemmatizer : 토큰의 표제어를 생성\n",
    "7. POS Tagger : 연관된 토큰의 품사를 생성"
   ]
  },
  {
   "cell_type": "code",
   "execution_count": null,
   "metadata": {},
   "outputs": [],
   "source": [
    "from sparknlp.pretrained import PretrainedPipeline\n",
    "\n",
    "pipeline = PretrainedPipeline('explain_document_ml', lang='en')"
   ]
  },
  {
   "cell_type": "code",
   "execution_count": null,
   "metadata": {},
   "outputs": [],
   "source": [
    "# Example\n",
    "pipeline.annotate('Hellu wrold!')"
   ]
  },
  {
   "cell_type": "code",
   "execution_count": null,
   "metadata": {},
   "outputs": [],
   "source": [
    "procd_texts_df = pipeline.annotate(texts_df, 'text')\n",
    "\n",
    "procd_texts_df.printSchema()"
   ]
  },
  {
   "cell_type": "code",
   "execution_count": null,
   "metadata": {},
   "outputs": [],
   "source": [
    "procd_texts_df.show(n=2, truncate=100, vertical=True)"
   ]
  },
  {
   "cell_type": "code",
   "execution_count": null,
   "metadata": {},
   "outputs": [],
   "source": [
    "from sparknlp import Finisher\n",
    "\n",
    "finisher = Finisher()\n",
    "finisher = finisher\n",
    "\n",
    "# Lemma(표제어) 열 가져오기\n",
    "finisher = finisher.setInputCols(['lemmas'])\n",
    "# 단일 공백으로 표제어 분리하기\n",
    "finisher = finisher.setAnnotationSplitSymbol(' ')\n",
    "\n",
    "finished_texts_df = finisher.transform(procd_texts_df)\n",
    "\n",
    "finished_texts_df.show(n=1, truncate=100, vertical=True)"
   ]
  },
  {
   "cell_type": "code",
   "execution_count": null,
   "metadata": {},
   "outputs": [],
   "source": [
    "finished_texts_df.select('finished_lemmas').take(1)"
   ]
  },
  {
   "cell_type": "code",
   "execution_count": null,
   "metadata": {},
   "outputs": [],
   "source": []
  }
 ],
 "metadata": {
  "interpreter": {
   "hash": "33a3111211be4281f3a8c4a9b25563b8d253df502c7e31f5318895c1792a97cb"
  },
  "kernelspec": {
   "display_name": "Python 3.8.8 64-bit ('py38': conda)",
   "language": "python",
   "name": "python3"
  },
  "language_info": {
   "codemirror_mode": {
    "name": "ipython",
    "version": 3
   },
   "file_extension": ".py",
   "mimetype": "text/x-python",
   "name": "python",
   "nbconvert_exporter": "python",
   "pygments_lexer": "ipython3",
   "version": "3.8.8"
  },
  "orig_nbformat": 4
 },
 "nbformat": 4,
 "nbformat_minor": 2
}
