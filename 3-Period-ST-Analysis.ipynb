{
 "cells": [
  {
   "cell_type": "markdown",
   "metadata": {},
   "source": [
    "# 3 Period English Analysis\n",
    "\n",
    "## 1. Moduel Import\n",
    "## 2. Data Load\n",
    "## 3. Preprocess\n",
    "> #### 3-1) Data Cleaning ; 특수 문자 등 제거\n",
    "## 4. Analysis\n",
    "> #### 4-1) Tag 별 분포와 비율\n",
    "> #### 4-2) Topic Modeling (LDA)\n",
    "> #### 4-3) WordCloud\n",
    "> #### ~~4-4) Network web analysis~~"
   ]
  },
  {
   "cell_type": "markdown",
   "metadata": {},
   "source": [
    "## 1. Module Import"
   ]
  },
  {
   "cell_type": "code",
   "execution_count": 3,
   "metadata": {},
   "outputs": [
    {
     "name": "stderr",
     "output_type": "stream",
     "text": [
      "C:\\Users\\marti\\anaconda3\\envs\\py38\\lib\\site-packages\\ipykernel\\ipkernel.py:287: DeprecationWarning: `should_run_async` will not call `transform_cell` automatically in the future. Please pass the result to `transformed_cell` argument and any exception that happen during thetransform in `preprocessing_exc_tuple` in IPython 7.17 and above.\n",
      "  and should_run_async(code)\n"
     ]
    }
   ],
   "source": [
    "# General Modules\n",
    "import pandas as pd\n",
    "import numpy as np\n",
    "import re\n",
    "import warnings\n",
    "\n",
    "warnings.filterwarnings('ignore')\n",
    "\n",
    "# Read File\n",
    "import glob\n",
    "\n",
    "# NLP\n",
    "import nltk\n",
    "from nltk.tokenize import TreebankWordTokenizer, sent_tokenize\n",
    "from nltk import FreqDist\n",
    "from wordcloud import WordCloud\n",
    "\n",
    "# Visualization\n",
    "import pyLDAvis\n",
    "import seaborn as sns\n",
    "import matplotlib.pyplot as plt\n",
    "%matplotlib inline"
   ]
  },
  {
   "cell_type": "markdown",
   "metadata": {},
   "source": [
    "## 2. Data Load"
   ]
  },
  {
   "cell_type": "code",
   "execution_count": 4,
   "metadata": {},
   "outputs": [],
   "source": [
    "DATA_ROOT = './Data/3구간/'\n",
    "\n",
    "PERIOD_1 = DATA_ROOT + '1시기/1시기_ST/'\n",
    "PERIOD_2 = DATA_ROOT + '2시기/2시기_ST/'\n",
    "PERIOD_3 = DATA_ROOT + '3시기/3시기_ST/'\n",
    "\n",
    "RESULT_ROOT = './Result/3구간/'\n",
    "\n",
    "RESULT_1 = RESULT_ROOT + '/1시기/'\n",
    "RESULT_2 = RESULT_ROOT + '/2시기/'\n",
    "RESULT_3 = RESULT_ROOT + '/3시기/'"
   ]
  },
  {
   "cell_type": "code",
   "execution_count": null,
   "metadata": {},
   "outputs": [],
   "source": [
    "files_1 = glob.glob(PERIOD_1+'*.txt')\n",
    "files_2 = glob.glob(PERIOD_2+'*.txt')\n",
    "files_3 = glob.glob(PERIOD_3+'*.txt')\n",
    "\n",
    "\n",
    "texts_1 = []\n",
    "# texts_2 = []\n",
    "# texts_3 = []\n",
    "\n",
    "for i in range(len(files_1)):\n",
    "    f = open(files_1[i], 'r', encoding='UTF-8')\n",
    "    text = f.read()\n",
    "    texts_1.append(text)\n",
    "    f.close\n",
    "\n",
    "# for i in range(len(files_2)):\n",
    "#     f = open(files_2[i], 'r')\n",
    "#     text = f.read()\n",
    "#     texts_2.append(text)\n",
    "#     f.close\n",
    "\n",
    "# for i in range(len(files_3)):\n",
    "#     f = open(files_3[i], 'r')\n",
    "#     text = f.read()\n",
    "#     texts_3.append(text)\n",
    "#     f.close"
   ]
  },
  {
   "cell_type": "markdown",
   "metadata": {},
   "source": [
    "## PreProcess"
   ]
  },
  {
   "cell_type": "markdown",
   "metadata": {},
   "source": [
    "### Data Cleaning"
   ]
  },
  {
   "cell_type": "code",
   "execution_count": 9,
   "metadata": {},
   "outputs": [
    {
     "name": "stderr",
     "output_type": "stream",
     "text": [
      "C:\\Users\\marti\\anaconda3\\envs\\py38\\lib\\site-packages\\ipykernel\\ipkernel.py:287: DeprecationWarning: `should_run_async` will not call `transform_cell` automatically in the future. Please pass the result to `transformed_cell` argument and any exception that happen during thetransform in `preprocessing_exc_tuple` in IPython 7.17 and above.\n",
      "  and should_run_async(code)\n"
     ]
    }
   ],
   "source": [
    "def lowerCase(text):\n",
    "    return text.lower()\n",
    "\n",
    "def replaceText(text, repList):\n",
    "    for rep, target in repList:\n",
    "        text = text.replace(rep, target)\n",
    "    return text\n",
    "\n",
    "def cleaning(text, repList):\n",
    "    text = lowerCase(text)\n",
    "    text = replaceText(text, repList)\n",
    "    text = re.sub(r'\\d+', '', text)\n",
    "    return text\n",
    "\n",
    "repList = [(\"\\\\n\", \"\"), (\".\", \"\"), (\",\", \"\"), (\"?\", \"\"), (\"!\", \"\"), \\\n",
    "    (\"(\", \"\"), (\")\", \"\"), (\"\\'\", \"\"), ('\"', ''), (\"\\\\\", \"\"), (\"$\", \"\"), \\\n",
    "        (\"%\", \"\"), (\":\", \"\"), (\"’\", \"\"), (\"“\", \"\"), (\"”\", \"\"), (\";\", \"\")]"
   ]
  },
  {
   "cell_type": "markdown",
   "metadata": {},
   "source": [
    "### Tokenize"
   ]
  },
  {
   "cell_type": "code",
   "execution_count": 11,
   "metadata": {},
   "outputs": [
    {
     "name": "stderr",
     "output_type": "stream",
     "text": [
      "C:\\Users\\marti\\anaconda3\\envs\\py38\\lib\\site-packages\\ipykernel\\ipkernel.py:287: DeprecationWarning: `should_run_async` will not call `transform_cell` automatically in the future. Please pass the result to `transformed_cell` argument and any exception that happen during thetransform in `preprocessing_exc_tuple` in IPython 7.17 and above.\n",
      "  and should_run_async(code)\n"
     ]
    }
   ],
   "source": [
    "tokenizer = TreebankWordTokenizer()\n",
    "\n",
    "def removeStopWords(tokenized, new_stopwords=[]):\n",
    "    stopwords = nltk.stopwords.words('english')\n",
    "    if len(new_stopwords) != 0:\n",
    "        stopwords.extend(new_stopwords)\n",
    "    return [word for word in tokenized if word not in stopwords]\n",
    "\n",
    "def tagging(tokenized):\n",
    "    return nltk.pos_tag(tokenized)"
   ]
  },
  {
   "cell_type": "markdown",
   "metadata": {},
   "source": [
    "## Analysis"
   ]
  },
  {
   "cell_type": "markdown",
   "metadata": {},
   "source": [
    "### Frequency\n"
   ]
  },
  {
   "cell_type": "code",
   "execution_count": null,
   "metadata": {},
   "outputs": [],
   "source": []
  },
  {
   "cell_type": "markdown",
   "metadata": {},
   "source": [
    "### WordCloud"
   ]
  },
  {
   "cell_type": "code",
   "execution_count": null,
   "metadata": {},
   "outputs": [],
   "source": []
  },
  {
   "cell_type": "markdown",
   "metadata": {},
   "source": [
    "### Topic Modeling"
   ]
  },
  {
   "cell_type": "code",
   "execution_count": null,
   "metadata": {},
   "outputs": [],
   "source": []
  }
 ],
 "metadata": {
  "interpreter": {
   "hash": "33a3111211be4281f3a8c4a9b25563b8d253df502c7e31f5318895c1792a97cb"
  },
  "kernelspec": {
   "display_name": "Python 3.8.8 64-bit ('py38': conda)",
   "name": "python3"
  },
  "language_info": {
   "codemirror_mode": {
    "name": "ipython",
    "version": 3
   },
   "file_extension": ".py",
   "mimetype": "text/x-python",
   "name": "python",
   "nbconvert_exporter": "python",
   "pygments_lexer": "ipython3",
   "version": "3.8.8"
  },
  "orig_nbformat": 4
 },
 "nbformat": 4,
 "nbformat_minor": 2
}
